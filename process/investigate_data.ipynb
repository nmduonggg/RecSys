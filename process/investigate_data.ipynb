{
 "cells": [
  {
   "cell_type": "code",
   "execution_count": 7,
   "metadata": {},
   "outputs": [],
   "source": [
    "import pandas as pd\n",
    "import numpy as np\n",
    "import matplotlib.pyplot as plt\n",
    "import json"
   ]
  },
  {
   "cell_type": "code",
   "execution_count": 14,
   "metadata": {},
   "outputs": [],
   "source": [
    "def read_json(json_path):\n",
    "    data = []\n",
    "    with open(json_path, 'r', encoding='utf-8') as files:\n",
    "        for file in files:\n",
    "            data.append(json.loads(file))\n",
    "    return data"
   ]
  },
  {
   "cell_type": "code",
   "execution_count": 22,
   "metadata": {},
   "outputs": [],
   "source": [
    "metadata_json = '/home/manhduong/HUST/RAW_DATA/movie_dataset_public_final/raw/metadata_updated.json'\n",
    "reviews_json = '/home/manhduong/HUST/RAW_DATA/movie_dataset_public_final/raw/reviews.json'\n",
    "ratings_json = '/home/manhduong/HUST/RAW_DATA/movie_dataset_public_final/raw/ratings.json'\n",
    "survey_answers_json = '/home/manhduong/HUST/RAW_DATA/movie_dataset_public_final/raw/survey_answers.json'"
   ]
  },
  {
   "cell_type": "code",
   "execution_count": 15,
   "metadata": {},
   "outputs": [],
   "source": [
    "metadata = read_json(metadata_json)\n",
    "reviews = read_json(reviews_json)\n",
    "ratings = read_json(ratings_json)\n",
    "survey_answers = read_json(survey_answers_json)"
   ]
  },
  {
   "cell_type": "code",
   "execution_count": 18,
   "metadata": {},
   "outputs": [
    {
     "data": {
      "text/plain": [
       "{'item_id': 172063,\n",
       " 'txt': 'one-shot record of a belly dancer; \"Carmencita Dancing,\" one of a series of Edison short films featuring \\r circus and vaudeville acts, displayed the... um... \"talents\" of a zaftig belly-dancer who agreed to undulate before the camera of the famous \"Black \\r Maria\" studio. \\r \\r The dance was originally intended to be played in a Kinetoscope, a single -person arcade viewer connected to Edison\\'s more famous invention, the phonograph. Through a pair of crude headphones, the latter device supplied an asynchronous soundtrack of \"hootchie-cootchie\" music. \\r \\r The Kinetograph camera here employed is so new -- even to its inventors \\r -- that director Dickson has drastically \"overcranked\" the film, unintentionally producing one of the first examples of slow-motion.\\r \\r Carmencita\\'s titillating movements were considered by many to be \\r scandalous. Thus, the film prompted some of the earliest discussions of film censorship.'}"
      ]
     },
     "execution_count": 18,
     "metadata": {},
     "output_type": "execute_result"
    }
   ],
   "source": [
    "reviews[0]"
   ]
  },
  {
   "cell_type": "code",
   "execution_count": 20,
   "metadata": {},
   "outputs": [
    {
     "data": {
      "text/plain": [
       "{'item_id': 5, 'user_id': 997206, 'rating': 3.0}"
      ]
     },
     "execution_count": 20,
     "metadata": {},
     "output_type": "execute_result"
    }
   ],
   "source": [
    "ratings[0]"
   ]
  },
  {
   "cell_type": "code",
   "execution_count": 25,
   "metadata": {},
   "outputs": [
    {
     "data": {
      "text/plain": [
       "{'user_id': 978707, 'item_id': 3108, 'tag_id': 50126, 'score': 3}"
      ]
     },
     "execution_count": 25,
     "metadata": {},
     "output_type": "execute_result"
    }
   ],
   "source": [
    "survey_answers[0]"
   ]
  },
  {
   "cell_type": "code",
   "execution_count": 26,
   "metadata": {},
   "outputs": [],
   "source": [
    "reviews_df = pd.DataFrame(reviews)"
   ]
  },
  {
   "cell_type": "code",
   "execution_count": 27,
   "metadata": {},
   "outputs": [
    {
     "data": {
      "text/html": [
       "<div>\n",
       "<style scoped>\n",
       "    .dataframe tbody tr th:only-of-type {\n",
       "        vertical-align: middle;\n",
       "    }\n",
       "\n",
       "    .dataframe tbody tr th {\n",
       "        vertical-align: top;\n",
       "    }\n",
       "\n",
       "    .dataframe thead th {\n",
       "        text-align: right;\n",
       "    }\n",
       "</style>\n",
       "<table border=\"1\" class=\"dataframe\">\n",
       "  <thead>\n",
       "    <tr style=\"text-align: right;\">\n",
       "      <th></th>\n",
       "      <th>item_id</th>\n",
       "      <th>txt</th>\n",
       "    </tr>\n",
       "  </thead>\n",
       "  <tbody>\n",
       "    <tr>\n",
       "      <th>0</th>\n",
       "      <td>172063</td>\n",
       "      <td>one-shot record of a belly dancer; \"Carmencita...</td>\n",
       "    </tr>\n",
       "    <tr>\n",
       "      <th>1</th>\n",
       "      <td>95541</td>\n",
       "      <td>Banging Away..; Thomas Edison and William K.L....</td>\n",
       "    </tr>\n",
       "    <tr>\n",
       "      <th>2</th>\n",
       "      <td>7065</td>\n",
       "      <td>unbelievable; I cannot understand how anyone c...</td>\n",
       "    </tr>\n",
       "    <tr>\n",
       "      <th>3</th>\n",
       "      <td>3739</td>\n",
       "      <td>I'm still starry-eyed from it; I saw this last...</td>\n",
       "    </tr>\n",
       "    <tr>\n",
       "      <th>4</th>\n",
       "      <td>1562</td>\n",
       "      <td>Failed on every Front; Joel Schumacher who did...</td>\n",
       "    </tr>\n",
       "  </tbody>\n",
       "</table>\n",
       "</div>"
      ],
      "text/plain": [
       "   item_id                                                txt\n",
       "0   172063  one-shot record of a belly dancer; \"Carmencita...\n",
       "1    95541  Banging Away..; Thomas Edison and William K.L....\n",
       "2     7065  unbelievable; I cannot understand how anyone c...\n",
       "3     3739  I'm still starry-eyed from it; I saw this last...\n",
       "4     1562  Failed on every Front; Joel Schumacher who did..."
      ]
     },
     "execution_count": 27,
     "metadata": {},
     "output_type": "execute_result"
    }
   ],
   "source": [
    "reviews_df.head()"
   ]
  },
  {
   "cell_type": "code",
   "execution_count": 28,
   "metadata": {},
   "outputs": [
    {
     "data": {
      "text/html": [
       "<div>\n",
       "<style scoped>\n",
       "    .dataframe tbody tr th:only-of-type {\n",
       "        vertical-align: middle;\n",
       "    }\n",
       "\n",
       "    .dataframe tbody tr th {\n",
       "        vertical-align: top;\n",
       "    }\n",
       "\n",
       "    .dataframe thead th {\n",
       "        text-align: right;\n",
       "    }\n",
       "</style>\n",
       "<table border=\"1\" class=\"dataframe\">\n",
       "  <thead>\n",
       "    <tr style=\"text-align: right;\">\n",
       "      <th></th>\n",
       "      <th>user_id</th>\n",
       "      <th>item_id</th>\n",
       "      <th>tag_id</th>\n",
       "      <th>score</th>\n",
       "    </tr>\n",
       "  </thead>\n",
       "  <tbody>\n",
       "    <tr>\n",
       "      <th>0</th>\n",
       "      <td>978707</td>\n",
       "      <td>3108</td>\n",
       "      <td>50126</td>\n",
       "      <td>3</td>\n",
       "    </tr>\n",
       "    <tr>\n",
       "      <th>1</th>\n",
       "      <td>978707</td>\n",
       "      <td>2858</td>\n",
       "      <td>50126</td>\n",
       "      <td>1</td>\n",
       "    </tr>\n",
       "    <tr>\n",
       "      <th>2</th>\n",
       "      <td>978707</td>\n",
       "      <td>1269</td>\n",
       "      <td>50126</td>\n",
       "      <td>1</td>\n",
       "    </tr>\n",
       "    <tr>\n",
       "      <th>3</th>\n",
       "      <td>978707</td>\n",
       "      <td>1136</td>\n",
       "      <td>50126</td>\n",
       "      <td>1</td>\n",
       "    </tr>\n",
       "    <tr>\n",
       "      <th>4</th>\n",
       "      <td>978707</td>\n",
       "      <td>1220</td>\n",
       "      <td>50126</td>\n",
       "      <td>1</td>\n",
       "    </tr>\n",
       "  </tbody>\n",
       "</table>\n",
       "</div>"
      ],
      "text/plain": [
       "   user_id  item_id  tag_id  score\n",
       "0   978707     3108   50126      3\n",
       "1   978707     2858   50126      1\n",
       "2   978707     1269   50126      1\n",
       "3   978707     1136   50126      1\n",
       "4   978707     1220   50126      1"
      ]
     },
     "execution_count": 28,
     "metadata": {},
     "output_type": "execute_result"
    }
   ],
   "source": [
    "tags_matching_df = pd.DataFrame(survey_answers)\n",
    "tags_matching_df.head()"
   ]
  },
  {
   "cell_type": "code",
   "execution_count": 29,
   "metadata": {},
   "outputs": [
    {
     "data": {
      "text/html": [
       "<div>\n",
       "<style scoped>\n",
       "    .dataframe tbody tr th:only-of-type {\n",
       "        vertical-align: middle;\n",
       "    }\n",
       "\n",
       "    .dataframe tbody tr th {\n",
       "        vertical-align: top;\n",
       "    }\n",
       "\n",
       "    .dataframe thead th {\n",
       "        text-align: right;\n",
       "    }\n",
       "</style>\n",
       "<table border=\"1\" class=\"dataframe\">\n",
       "  <thead>\n",
       "    <tr style=\"text-align: right;\">\n",
       "      <th></th>\n",
       "      <th>item_id</th>\n",
       "      <th>user_id</th>\n",
       "      <th>rating</th>\n",
       "    </tr>\n",
       "  </thead>\n",
       "  <tbody>\n",
       "    <tr>\n",
       "      <th>0</th>\n",
       "      <td>5</td>\n",
       "      <td>997206</td>\n",
       "      <td>3.0</td>\n",
       "    </tr>\n",
       "    <tr>\n",
       "      <th>1</th>\n",
       "      <td>10</td>\n",
       "      <td>997206</td>\n",
       "      <td>4.0</td>\n",
       "    </tr>\n",
       "    <tr>\n",
       "      <th>2</th>\n",
       "      <td>13</td>\n",
       "      <td>997206</td>\n",
       "      <td>4.0</td>\n",
       "    </tr>\n",
       "    <tr>\n",
       "      <th>3</th>\n",
       "      <td>17</td>\n",
       "      <td>997206</td>\n",
       "      <td>5.0</td>\n",
       "    </tr>\n",
       "    <tr>\n",
       "      <th>4</th>\n",
       "      <td>21</td>\n",
       "      <td>997206</td>\n",
       "      <td>4.0</td>\n",
       "    </tr>\n",
       "  </tbody>\n",
       "</table>\n",
       "</div>"
      ],
      "text/plain": [
       "   item_id  user_id  rating\n",
       "0        5   997206     3.0\n",
       "1       10   997206     4.0\n",
       "2       13   997206     4.0\n",
       "3       17   997206     5.0\n",
       "4       21   997206     4.0"
      ]
     },
     "execution_count": 29,
     "metadata": {},
     "output_type": "execute_result"
    }
   ],
   "source": [
    "ratings_df = pd.DataFrame(ratings)\n",
    "ratings_df.head()"
   ]
  },
  {
   "cell_type": "code",
   "execution_count": 30,
   "metadata": {},
   "outputs": [
    {
     "data": {
      "text/html": [
       "<div>\n",
       "<style scoped>\n",
       "    .dataframe tbody tr th:only-of-type {\n",
       "        vertical-align: middle;\n",
       "    }\n",
       "\n",
       "    .dataframe tbody tr th {\n",
       "        vertical-align: top;\n",
       "    }\n",
       "\n",
       "    .dataframe thead th {\n",
       "        text-align: right;\n",
       "    }\n",
       "</style>\n",
       "<table border=\"1\" class=\"dataframe\">\n",
       "  <thead>\n",
       "    <tr style=\"text-align: right;\">\n",
       "      <th></th>\n",
       "      <th>title</th>\n",
       "      <th>directedBy</th>\n",
       "      <th>starring</th>\n",
       "      <th>avgRating</th>\n",
       "      <th>imdbId</th>\n",
       "      <th>item_id</th>\n",
       "    </tr>\n",
       "  </thead>\n",
       "  <tbody>\n",
       "    <tr>\n",
       "      <th>0</th>\n",
       "      <td>Toy Story (1995)</td>\n",
       "      <td>John Lasseter</td>\n",
       "      <td>Tim Allen, Tom Hanks, Don Rickles, Jim Varney,...</td>\n",
       "      <td>3.89146</td>\n",
       "      <td>0114709</td>\n",
       "      <td>1</td>\n",
       "    </tr>\n",
       "    <tr>\n",
       "      <th>1</th>\n",
       "      <td>Jumanji (1995)</td>\n",
       "      <td>Joe Johnston</td>\n",
       "      <td>Jonathan Hyde, Bradley Pierce, Robin Williams,...</td>\n",
       "      <td>3.26605</td>\n",
       "      <td>0113497</td>\n",
       "      <td>2</td>\n",
       "    </tr>\n",
       "    <tr>\n",
       "      <th>2</th>\n",
       "      <td>Grumpier Old Men (1995)</td>\n",
       "      <td>Howard Deutch</td>\n",
       "      <td>Jack Lemmon, Walter Matthau, Ann-Margret , Sop...</td>\n",
       "      <td>3.17146</td>\n",
       "      <td>0113228</td>\n",
       "      <td>3</td>\n",
       "    </tr>\n",
       "    <tr>\n",
       "      <th>3</th>\n",
       "      <td>Waiting to Exhale (1995)</td>\n",
       "      <td>Forest Whitaker</td>\n",
       "      <td>Angela Bassett, Loretta Devine, Whitney Housto...</td>\n",
       "      <td>2.86824</td>\n",
       "      <td>0114885</td>\n",
       "      <td>4</td>\n",
       "    </tr>\n",
       "    <tr>\n",
       "      <th>4</th>\n",
       "      <td>Father of the Bride Part II (1995)</td>\n",
       "      <td>Charles Shyer</td>\n",
       "      <td>Steve Martin, Martin Short, Diane Keaton, Kimb...</td>\n",
       "      <td>3.07620</td>\n",
       "      <td>0113041</td>\n",
       "      <td>5</td>\n",
       "    </tr>\n",
       "  </tbody>\n",
       "</table>\n",
       "</div>"
      ],
      "text/plain": [
       "                                title       directedBy  \\\n",
       "0                    Toy Story (1995)    John Lasseter   \n",
       "1                      Jumanji (1995)     Joe Johnston   \n",
       "2             Grumpier Old Men (1995)    Howard Deutch   \n",
       "3            Waiting to Exhale (1995)  Forest Whitaker   \n",
       "4  Father of the Bride Part II (1995)    Charles Shyer   \n",
       "\n",
       "                                            starring  avgRating   imdbId  \\\n",
       "0  Tim Allen, Tom Hanks, Don Rickles, Jim Varney,...    3.89146  0114709   \n",
       "1  Jonathan Hyde, Bradley Pierce, Robin Williams,...    3.26605  0113497   \n",
       "2  Jack Lemmon, Walter Matthau, Ann-Margret , Sop...    3.17146  0113228   \n",
       "3  Angela Bassett, Loretta Devine, Whitney Housto...    2.86824  0114885   \n",
       "4  Steve Martin, Martin Short, Diane Keaton, Kimb...    3.07620  0113041   \n",
       "\n",
       "   item_id  \n",
       "0        1  \n",
       "1        2  \n",
       "2        3  \n",
       "3        4  \n",
       "4        5  "
      ]
     },
     "execution_count": 30,
     "metadata": {},
     "output_type": "execute_result"
    }
   ],
   "source": [
    "metadata_df = pd.DataFrame(metadata)\n",
    "metadata_df.head()"
   ]
  },
  {
   "cell_type": "code",
   "execution_count": 41,
   "metadata": {},
   "outputs": [],
   "source": [
    "## preprocess reviews_df\n",
    "item_indices = reviews_df['item_id'].unique()\n",
    "new_reviews_dict = []\n",
    "for item_idx in item_indices:\n",
    "    subdf = reviews_df[reviews_df['item_id']==item_idx]['txt']\n",
    "    txts = subdf.unique()\n",
    "    txt = '\\n'.join(txts).lower()\n",
    "    new_reviews_dict.append({\n",
    "        'item_id': item_idx,\n",
    "        'txt': txt\n",
    "    })\n",
    "new_reviews_df = pd.DataFrame(new_reviews_dict)"
   ]
  },
  {
   "cell_type": "code",
   "execution_count": 45,
   "metadata": {},
   "outputs": [
    {
     "data": {
      "text/plain": [
       "(52081, 2)"
      ]
     },
     "execution_count": 45,
     "metadata": {},
     "output_type": "execute_result"
    }
   ],
   "source": [
    "new_reviews_df.shape"
   ]
  },
  {
   "cell_type": "code",
   "execution_count": 42,
   "metadata": {},
   "outputs": [],
   "source": [
    "movies_df = metadata_df.merge(new_reviews_df, on='item_id')"
   ]
  },
  {
   "cell_type": "code",
   "execution_count": 43,
   "metadata": {},
   "outputs": [
    {
     "data": {
      "text/html": [
       "<div>\n",
       "<style scoped>\n",
       "    .dataframe tbody tr th:only-of-type {\n",
       "        vertical-align: middle;\n",
       "    }\n",
       "\n",
       "    .dataframe tbody tr th {\n",
       "        vertical-align: top;\n",
       "    }\n",
       "\n",
       "    .dataframe thead th {\n",
       "        text-align: right;\n",
       "    }\n",
       "</style>\n",
       "<table border=\"1\" class=\"dataframe\">\n",
       "  <thead>\n",
       "    <tr style=\"text-align: right;\">\n",
       "      <th></th>\n",
       "      <th>title</th>\n",
       "      <th>directedBy</th>\n",
       "      <th>starring</th>\n",
       "      <th>avgRating</th>\n",
       "      <th>imdbId</th>\n",
       "      <th>item_id</th>\n",
       "      <th>txt</th>\n",
       "    </tr>\n",
       "  </thead>\n",
       "  <tbody>\n",
       "    <tr>\n",
       "      <th>0</th>\n",
       "      <td>Toy Story (1995)</td>\n",
       "      <td>John Lasseter</td>\n",
       "      <td>Tim Allen, Tom Hanks, Don Rickles, Jim Varney,...</td>\n",
       "      <td>3.89146</td>\n",
       "      <td>0114709</td>\n",
       "      <td>1</td>\n",
       "      <td>the one film that started what is now a cliché...</td>\n",
       "    </tr>\n",
       "    <tr>\n",
       "      <th>1</th>\n",
       "      <td>Jumanji (1995)</td>\n",
       "      <td>Joe Johnston</td>\n",
       "      <td>Jonathan Hyde, Bradley Pierce, Robin Williams,...</td>\n",
       "      <td>3.26605</td>\n",
       "      <td>0113497</td>\n",
       "      <td>2</td>\n",
       "      <td>fun little movie hidden in the back drawer; mo...</td>\n",
       "    </tr>\n",
       "    <tr>\n",
       "      <th>2</th>\n",
       "      <td>Grumpier Old Men (1995)</td>\n",
       "      <td>Howard Deutch</td>\n",
       "      <td>Jack Lemmon, Walter Matthau, Ann-Margret , Sop...</td>\n",
       "      <td>3.17146</td>\n",
       "      <td>0113228</td>\n",
       "      <td>3</td>\n",
       "      <td>our second visit to wabasha, minnesota; sequel...</td>\n",
       "    </tr>\n",
       "    <tr>\n",
       "      <th>3</th>\n",
       "      <td>Waiting to Exhale (1995)</td>\n",
       "      <td>Forest Whitaker</td>\n",
       "      <td>Angela Bassett, Loretta Devine, Whitney Housto...</td>\n",
       "      <td>2.86824</td>\n",
       "      <td>0114885</td>\n",
       "      <td>4</td>\n",
       "      <td>extra in movie; i was actually an extra in thi...</td>\n",
       "    </tr>\n",
       "    <tr>\n",
       "      <th>4</th>\n",
       "      <td>Father of the Bride Part II (1995)</td>\n",
       "      <td>Charles Shyer</td>\n",
       "      <td>Steve Martin, Martin Short, Diane Keaton, Kimb...</td>\n",
       "      <td>3.07620</td>\n",
       "      <td>0113041</td>\n",
       "      <td>5</td>\n",
       "      <td>the best movie of all time; let me tell you.. ...</td>\n",
       "    </tr>\n",
       "    <tr>\n",
       "      <th>...</th>\n",
       "      <td>...</td>\n",
       "      <td>...</td>\n",
       "      <td>...</td>\n",
       "      <td>...</td>\n",
       "      <td>...</td>\n",
       "      <td>...</td>\n",
       "      <td>...</td>\n",
       "    </tr>\n",
       "    <tr>\n",
       "      <th>52043</th>\n",
       "      <td>Journey's End (2018)</td>\n",
       "      <td>Saul Dibb</td>\n",
       "      <td>Sam Claflin,Asa Butterfield,Paul Bettany,Tom S...</td>\n",
       "      <td>3.29487</td>\n",
       "      <td>3780500</td>\n",
       "      <td>182369</td>\n",
       "      <td>\"charming war film that hits you hard!\"; i was...</td>\n",
       "    </tr>\n",
       "    <tr>\n",
       "      <th>52044</th>\n",
       "      <td>God's Bloody Acre (1975)</td>\n",
       "      <td>Harry Kerwin</td>\n",
       "      <td>Wayne Crawford,Jennifer Stock,Sam Moree,Daniel...</td>\n",
       "      <td>0.00000</td>\n",
       "      <td>0235433</td>\n",
       "      <td>182375</td>\n",
       "      <td>saddle up the mule, ma. slide me some grits, i...</td>\n",
       "    </tr>\n",
       "    <tr>\n",
       "      <th>52045</th>\n",
       "      <td>Femalien (1996)</td>\n",
       "      <td>Cybil Richards</td>\n",
       "      <td>Jacqueline Lovell,Matt Shue,Kurt Sinclair,Vene...</td>\n",
       "      <td>2.12500</td>\n",
       "      <td>0116294</td>\n",
       "      <td>182377</td>\n",
       "      <td>femalien brings love, joy, hope to horny earth...</td>\n",
       "    </tr>\n",
       "    <tr>\n",
       "      <th>52046</th>\n",
       "      <td>Kingdom of Us (2017)</td>\n",
       "      <td>Lucy Cohen</td>\n",
       "      <td>Paul Shanks,Vikie Shanks,Lorie-Lanie Shanks,Ni...</td>\n",
       "      <td>3.66667</td>\n",
       "      <td>7321274</td>\n",
       "      <td>182379</td>\n",
       "      <td>close look at the effects on family of suicide...</td>\n",
       "    </tr>\n",
       "    <tr>\n",
       "      <th>52047</th>\n",
       "      <td>Berlinguer ti voglio bene (1977)</td>\n",
       "      <td>Giuseppe Bertolucci</td>\n",
       "      <td>Roberto Benigni,Alida Valli,Carlo Monni,Sergio...</td>\n",
       "      <td>3.50000</td>\n",
       "      <td>0075742</td>\n",
       "      <td>182381</td>\n",
       "      <td>a gloss for non-italian viewers; if you're not...</td>\n",
       "    </tr>\n",
       "  </tbody>\n",
       "</table>\n",
       "<p>52048 rows × 7 columns</p>\n",
       "</div>"
      ],
      "text/plain": [
       "                                    title           directedBy  \\\n",
       "0                        Toy Story (1995)        John Lasseter   \n",
       "1                          Jumanji (1995)         Joe Johnston   \n",
       "2                 Grumpier Old Men (1995)        Howard Deutch   \n",
       "3                Waiting to Exhale (1995)      Forest Whitaker   \n",
       "4      Father of the Bride Part II (1995)        Charles Shyer   \n",
       "...                                   ...                  ...   \n",
       "52043                Journey's End (2018)            Saul Dibb   \n",
       "52044            God's Bloody Acre (1975)         Harry Kerwin   \n",
       "52045                     Femalien (1996)       Cybil Richards   \n",
       "52046                Kingdom of Us (2017)           Lucy Cohen   \n",
       "52047    Berlinguer ti voglio bene (1977)  Giuseppe Bertolucci   \n",
       "\n",
       "                                                starring  avgRating   imdbId  \\\n",
       "0      Tim Allen, Tom Hanks, Don Rickles, Jim Varney,...    3.89146  0114709   \n",
       "1      Jonathan Hyde, Bradley Pierce, Robin Williams,...    3.26605  0113497   \n",
       "2      Jack Lemmon, Walter Matthau, Ann-Margret , Sop...    3.17146  0113228   \n",
       "3      Angela Bassett, Loretta Devine, Whitney Housto...    2.86824  0114885   \n",
       "4      Steve Martin, Martin Short, Diane Keaton, Kimb...    3.07620  0113041   \n",
       "...                                                  ...        ...      ...   \n",
       "52043  Sam Claflin,Asa Butterfield,Paul Bettany,Tom S...    3.29487  3780500   \n",
       "52044  Wayne Crawford,Jennifer Stock,Sam Moree,Daniel...    0.00000  0235433   \n",
       "52045  Jacqueline Lovell,Matt Shue,Kurt Sinclair,Vene...    2.12500  0116294   \n",
       "52046  Paul Shanks,Vikie Shanks,Lorie-Lanie Shanks,Ni...    3.66667  7321274   \n",
       "52047  Roberto Benigni,Alida Valli,Carlo Monni,Sergio...    3.50000  0075742   \n",
       "\n",
       "       item_id                                                txt  \n",
       "0            1  the one film that started what is now a cliché...  \n",
       "1            2  fun little movie hidden in the back drawer; mo...  \n",
       "2            3  our second visit to wabasha, minnesota; sequel...  \n",
       "3            4  extra in movie; i was actually an extra in thi...  \n",
       "4            5  the best movie of all time; let me tell you.. ...  \n",
       "...        ...                                                ...  \n",
       "52043   182369  \"charming war film that hits you hard!\"; i was...  \n",
       "52044   182375  saddle up the mule, ma. slide me some grits, i...  \n",
       "52045   182377  femalien brings love, joy, hope to horny earth...  \n",
       "52046   182379  close look at the effects on family of suicide...  \n",
       "52047   182381  a gloss for non-italian viewers; if you're not...  \n",
       "\n",
       "[52048 rows x 7 columns]"
      ]
     },
     "execution_count": 43,
     "metadata": {},
     "output_type": "execute_result"
    }
   ],
   "source": [
    "movies_df"
   ]
  },
  {
   "cell_type": "code",
   "execution_count": 46,
   "metadata": {},
   "outputs": [],
   "source": [
    "movies_df.to_csv('/home/manhduong/HUST/RAW_DATA/movie_dataset_public_final/our_processed/movies.csv')"
   ]
  },
  {
   "cell_type": "code",
   "execution_count": null,
   "metadata": {},
   "outputs": [],
   "source": []
  }
 ],
 "metadata": {
  "kernelspec": {
   "display_name": "BBDM",
   "language": "python",
   "name": "python3"
  },
  "language_info": {
   "codemirror_mode": {
    "name": "ipython",
    "version": 3
   },
   "file_extension": ".py",
   "mimetype": "text/x-python",
   "name": "python",
   "nbconvert_exporter": "python",
   "pygments_lexer": "ipython3",
   "version": "3.9.7"
  }
 },
 "nbformat": 4,
 "nbformat_minor": 2
}
